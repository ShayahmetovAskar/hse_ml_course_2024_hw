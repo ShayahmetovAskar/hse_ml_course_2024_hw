{
 "cells": [
  {
   "cell_type": "markdown",
   "source": [
    "# Easy"
   ],
   "metadata": {
    "collapsed": false
   }
  },
  {
   "cell_type": "code",
   "execution_count": null,
   "metadata": {
    "collapsed": true
   },
   "outputs": [],
   "source": [
    "import pandas as pd\n",
    "\n",
    "df = pd.read_csv('../data/marketing_campaign.csv', sep=';')\n",
    "df.head(5)"
   ]
  },
  {
   "cell_type": "markdown",
   "source": [
    "Complain - 1 если покупатель жаловался за последние два года, иначе 0"
   ],
   "metadata": {
    "collapsed": false
   }
  },
  {
   "cell_type": "code",
   "execution_count": null,
   "outputs": [],
   "source": [
    "complains_number = df['Complain'].sum()\n",
    "print(f'Количество жалоб: {complains_number}')\n"
   ],
   "metadata": {
    "collapsed": false
   }
  },
  {
   "cell_type": "markdown",
   "source": [
    "\n",
    "### Посчитаем для людей общую сумму всех покупок"
   ],
   "metadata": {
    "collapsed": false
   }
  },
  {
   "cell_type": "code",
   "execution_count": null,
   "outputs": [],
   "source": [
    "# Имена столбцов, начинающихся с Mnt\n",
    "mnt_columns = [i for i in list(df.columns) if i.startswith('Mnt')]\n",
    "# На всякий случай (чтобы если запустить этот блок несколько раз, ничего не поломалось)\n",
    "if 'MntAll' in mnt_columns: mnt_columns.remove('MntAll')\n",
    "\n",
    "# Новый столбец MntAll с суммой потраченной на все продукты\n",
    "df['MntAll'] = df[mnt_columns].sum(axis=1)\n",
    "df['MntAll'].describe()"
   ],
   "metadata": {
    "collapsed": false
   }
  },
  {
   "cell_type": "markdown",
   "source": [
    "Заметим, что покупателями являются все, так как минимальное значение столбца MntAll равно 5. Из этого следует, что средний возраст покупателей будет равен среднему возрасту всех людей в датасете."
   ],
   "metadata": {
    "collapsed": false
   }
  },
  {
   "cell_type": "code",
   "execution_count": null,
   "outputs": [],
   "source": [
    "from datetime import datetime\n",
    "current_year = datetime.now().year\n",
    "\n",
    "df['Age'] = current_year - df['Year_Birth']\n",
    "print('Средний возраст покупателей:', df['Age'].mean())"
   ],
   "metadata": {
    "collapsed": false
   }
  },
  {
   "cell_type": "markdown",
   "source": [
    "***\n",
    "# Medium"
   ],
   "metadata": {
    "collapsed": false
   }
  },
  {
   "cell_type": "markdown",
   "source": [
    "Посмотрим, какие есть уровни образования и семейные положения"
   ],
   "metadata": {
    "collapsed": false
   }
  },
  {
   "cell_type": "code",
   "execution_count": null,
   "outputs": [],
   "source": [
    "print(df['Education'].unique())\n",
    "print(df['Marital_Status'].unique())"
   ],
   "metadata": {
    "collapsed": false
   }
  },
  {
   "cell_type": "markdown",
   "source": [
    "Добавим численное значение для уровня образования\n",
    " 0 - basic\n",
    " 1 - 2n Cycle\n",
    " 2 - Graduation\n",
    " 3 - Master\n",
    " 4 - PhD\n",
    "\n",
    "И для семейного положения\n",
    " 1 - Absurd\n",
    " 2 - Alone\n",
    " 3 - Divorced\n",
    " 4 - Married\n",
    " 5 - Single\n",
    " 6 - Together\n",
    " 7 - Widow\n",
    " 8 - YOLO\n"
   ],
   "metadata": {
    "collapsed": false
   }
  },
  {
   "cell_type": "code",
   "execution_count": null,
   "outputs": [],
   "source": [
    "education_to_number = {\n",
    "    'Basic': 0,\n",
    "    '2n Cycle': 1,\n",
    "    'Graduation': 2,\n",
    "    'Master': 3,\n",
    "    'PhD': 4\n",
    "}\n",
    "\n",
    "marital_status_to_number = {\n",
    "    'Absurd': 1,\n",
    "    'Alone': 2,\n",
    "    'Divorced': 3,\n",
    "    'Married': 4,\n",
    "    'Single': 5,\n",
    "    'Together': 6,\n",
    "    'Widow': 7,\n",
    "    'YOLO': 8\n",
    "}\n",
    "\n",
    "df['Education_numeric'] = df['Education'].map(lambda x: education_to_number[x])\n",
    "df['Marital_Status_numeric'] = df['Marital_Status'].map(lambda x: marital_status_to_number[x])"
   ],
   "metadata": {
    "collapsed": false
   }
  },
  {
   "cell_type": "markdown",
   "source": [
    "___\n",
    "### Теперь построим все попарные графики"
   ],
   "metadata": {
    "collapsed": false
   }
  },
  {
   "cell_type": "code",
   "execution_count": null,
   "outputs": [],
   "source": [
    "import seaborn as sns\n",
    "\n",
    "column_labels = [\n",
    "    \"Education_numeric\",\n",
    "    \"Marital_Status_numeric\",\n",
    "    \"Income\",\n",
    "    \"Kidhome\",\n",
    "    \"Teenhome\",\n",
    "    \"Recency\",\n",
    "    \"NumWebPurchases\",\n",
    "    \"NumStorePurchases\",\n",
    "    \"Age\"\n",
    "]\n",
    "\n",
    "sns.pairplot(df[column_labels], kind='scatter')"
   ],
   "metadata": {
    "collapsed": false
   }
  },
  {
   "cell_type": "markdown",
   "source": [
    "##### Заметим, что в столбцах Income, NumWebPurchases, Age есть выбросы. Исправим их\n",
    "\n",
    "\n",
    "Income - Основная часть находится до 100 тысяч долларов в год, но видно, что есть какое-то количество людей (7 штук) зарабатывающих примерно 180 тысяч, и один человек получающий 666666. Оставим значения до 100 тысяч, остальные приравняем к 1000000\n",
    "\n",
    "NumWebPurchases - Оставим значения до 13, все большие сделаем равными 13\n",
    "\n",
    "\n",
    "Age - Оставим значения до 90, все большие сделаем равными 90\n"
   ],
   "metadata": {
    "collapsed": false
   }
  },
  {
   "cell_type": "code",
   "execution_count": null,
   "outputs": [],
   "source": [
    "df['Income'] = df['Income'].map(lambda x: min(x, 100000))\n",
    "df['NumWebPurchases'] = df['NumWebPurchases'].map(lambda x: min(x, 13))\n",
    "df['Age'] = df['Age'].map(lambda x: min(x, 90))"
   ],
   "metadata": {
    "collapsed": false
   }
  },
  {
   "cell_type": "markdown",
   "source": [
    "### Снова нарисуем графики"
   ],
   "metadata": {
    "collapsed": false
   }
  },
  {
   "cell_type": "code",
   "execution_count": null,
   "outputs": [],
   "source": [
    "sns.pairplot(df[column_labels], kind='scatter')"
   ],
   "metadata": {
    "collapsed": false
   }
  },
  {
   "cell_type": "markdown",
   "source": [],
   "metadata": {
    "collapsed": false
   }
  },
  {
   "cell_type": "markdown",
   "source": [],
   "metadata": {
    "collapsed": false
   }
  },
  {
   "cell_type": "markdown",
   "source": [
    "Отсюда видно:\n",
    "1) NumWebPurchases и NumStorePurchases зависят от Income. Чем больше доход, тем больше покупок.\n",
    "2) Income зависит от Education. На самом низком уровне образования доход ограничен 40 тысячами.\n",
    "3) NumWebPurchases и NumStorePurchases коррелируют друг с другом"
   ],
   "metadata": {
    "collapsed": false
   }
  },
  {
   "cell_type": "code",
   "execution_count": null,
   "outputs": [],
   "source": [
    "sns.pairplot(df[column_labels], kind='hist')"
   ],
   "metadata": {
    "collapsed": false
   }
  },
  {
   "cell_type": "markdown",
   "source": [
    "Тут можно заметить еще некоторые вещи:\n",
    "1) Kidhome и Income. Люди у которых нет детей, зарабатывают больше чем те, у которых один ребенок, а те у кого один ребенок зарабатывают примерно столько же, сколько те у кого 2 ребенка.\n",
    "2) Teenhome и Income. Люди без подростков в семье делятся на два класса: тех, у кого доход поменьше и тех, у кого доход побольше. Видимо связано с тем, что есть люди вообще без детей, а есть люди, у которых ребенок еще не стал подростком."
   ],
   "metadata": {
    "collapsed": false
   }
  }
 ],
 "metadata": {
  "kernelspec": {
   "display_name": "Python 3",
   "language": "python",
   "name": "python3"
  },
  "language_info": {
   "codemirror_mode": {
    "name": "ipython",
    "version": 2
   },
   "file_extension": ".py",
   "mimetype": "text/x-python",
   "name": "python",
   "nbconvert_exporter": "python",
   "pygments_lexer": "ipython2",
   "version": "2.7.6"
  }
 },
 "nbformat": 4,
 "nbformat_minor": 0
}
