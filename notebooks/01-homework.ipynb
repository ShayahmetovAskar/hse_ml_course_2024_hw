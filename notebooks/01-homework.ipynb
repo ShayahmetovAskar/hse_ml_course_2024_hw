{
 "cells": [
  {
   "cell_type": "markdown",
   "source": [
    "# Easy"
   ],
   "metadata": {
    "collapsed": false
   }
  },
  {
   "cell_type": "code",
   "execution_count": 1,
   "metadata": {
    "collapsed": true
   },
   "outputs": [],
   "source": [
    "def func(values: list):\n",
    "    if not values:\n",
    "        return {}\n",
    "\n",
    "    # noinspection PyDictCreation\n",
    "    averages = dict()\n",
    "\n",
    "    # calculating the mean\n",
    "    averages['mean'] = sum(values) / len(values)\n",
    "\n",
    "    # calculating the median\n",
    "    n = len(values)\n",
    "    if n % 2 == 1:\n",
    "        median = sorted(values)[n // 2]\n",
    "    else:\n",
    "        median = (sorted(values)[n // 2 - 1] + sorted(values)[n // 2]) / 2\n",
    "    averages['median'] = median\n",
    "\n",
    "    # calculating the mode\n",
    "    freq = {}\n",
    "    for val in values:\n",
    "        freq[val] = freq.get(val, 0) + 1\n",
    "\n",
    "    # sorting (number of occurrences, value) tuples by\n",
    "    # the first element, then taking the most frequent value\n",
    "    averages['mode'] = max((freq[k], k) for k in freq.keys())[1]\n",
    "\n",
    "    return averages\n",
    "\n",
    "\n"
   ]
  },
  {
   "cell_type": "code",
   "execution_count": 2,
   "outputs": [
    {
     "name": "stdout",
     "output_type": "stream",
     "text": [
      "[0, 1, 1, 10, 5, 4, 3]\n",
      "{'mean': 3.4285714285714284, 'median': 3, 'mode': 1}\n",
      "\n",
      "[1, 1, 2, 3]\n",
      "{'mean': 1.75, 'median': 1.5, 'mode': 1}\n",
      "\n",
      "[1, 1, 1, 1, 2, 2, 2, 2, 3, 3, 3, 3, 3]\n",
      "{'mean': 2.076923076923077, 'median': 2, 'mode': 3}\n",
      "\n",
      "[]\n",
      "{}\n",
      "\n"
     ]
    }
   ],
   "source": [
    "lists = [\n",
    "    [0, 1, 1, 10, 5, 4, 3],\n",
    "    [1, 1, 2, 3],\n",
    "    [1, 1, 1, 1, 2, 2, 2, 2, 3, 3, 3, 3, 3],\n",
    "    []\n",
    "]\n",
    "\n",
    "for l in lists:\n",
    "    print(l)\n",
    "    print(func(l))\n",
    "    print()\n"
   ],
   "metadata": {
    "collapsed": false
   }
  },
  {
   "cell_type": "markdown",
   "source": [
    "# Medium"
   ],
   "metadata": {
    "collapsed": false
   }
  },
  {
   "cell_type": "code",
   "execution_count": 3,
   "outputs": [],
   "source": [
    "def parse_csv(file_content: str) -> list[dict]:\n",
    "    parsed_data: list[dict] = []\n",
    "    rows = file_content.split('\\n')  # csv file rows\n",
    "    header = rows[0].split(',')\n",
    "    for row in rows[1:]:\n",
    "        # ignore empty lines\n",
    "        if not row:\n",
    "            continue\n",
    "        # zip header with values\n",
    "        row_data = zip(header, row.split(','))\n",
    "\n",
    "        # create and append dict from zip\n",
    "        parsed_data.append({key: val for key, val in row_data})\n",
    "    return parsed_data"
   ],
   "metadata": {
    "collapsed": false
   }
  },
  {
   "cell_type": "code",
   "execution_count": 4,
   "outputs": [
    {
     "name": "stdout",
     "output_type": "stream",
     "text": [
      "Имя одного из персонажей с наибольшим количеством ног: Broodmother\n",
      "Максимальное количество ног у героев: 8\n",
      "Количество героев с максимальным количеством ног: 1\n",
      "Broodmother такой один\n"
     ]
    }
   ],
   "source": [
    "with open('../data/dota_hero_stats.csv', 'r') as csvfile:\n",
    "    heroes = parse_csv(csvfile.read())\n",
    "    max_legs_hero = max(heroes, key=lambda hero: hero['legs'])\n",
    "\n",
    "    print(\"Имя одного из персонажей с наибольшим количеством ног: \", end='')\n",
    "    print(max_legs_hero['localized_name'])\n",
    "\n",
    "    max_legs = max_legs_hero['legs']\n",
    "    print(\"Максимальное количество ног у героев: \", end='')\n",
    "    print(max_legs)\n",
    "\n",
    "    max_legs_count = len([hero for hero in heroes if hero['legs'] == max_legs])\n",
    "    print(\"Количество героев с максимальным количеством ног: \", end='')\n",
    "    print(max_legs_count)\n",
    "\n",
    "    if max_legs_count == 1:\n",
    "        print(f\"{max_legs_hero['localized_name']} такой один\")\n",
    "\n",
    "\n",
    "\n"
   ],
   "metadata": {
    "collapsed": false
   }
  }
 ],
 "metadata": {
  "kernelspec": {
   "display_name": "Python 3",
   "language": "python",
   "name": "python3"
  },
  "language_info": {
   "codemirror_mode": {
    "name": "ipython",
    "version": 2
   },
   "file_extension": ".py",
   "mimetype": "text/x-python",
   "name": "python",
   "nbconvert_exporter": "python",
   "pygments_lexer": "ipython2",
   "version": "2.7.6"
  }
 },
 "nbformat": 4,
 "nbformat_minor": 0
}
