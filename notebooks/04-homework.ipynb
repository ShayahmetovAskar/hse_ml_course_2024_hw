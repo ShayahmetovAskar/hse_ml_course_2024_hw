{
 "cells": [
  {
   "cell_type": "code",
   "execution_count": 1,
   "outputs": [],
   "source": [
    "import numpy as np\n",
    "import pandas as pd\n",
    "from sklearn.ensemble import RandomForestRegressor\n",
    "from sklearn.metrics import r2_score\n",
    "from sklearn.model_selection import train_test_split"
   ],
   "metadata": {
    "collapsed": false,
    "pycharm": {
     "name": "#%%\n"
    }
   }
  },
  {
   "cell_type": "code",
   "execution_count": 2,
   "outputs": [],
   "source": [
    "filenames = ['audi.csv', 'bmw.csv', 'ford.csv', 'hyundi.csv', 'merc.csv', 'skoda.csv', 'toyota.csv', 'vw.csv']"
   ],
   "metadata": {
    "collapsed": false,
    "pycharm": {
     "name": "#%%\n"
    }
   }
  },
  {
   "cell_type": "markdown",
   "source": [
    "# Easy"
   ],
   "metadata": {
    "collapsed": false,
    "pycharm": {
     "name": "#%% md\n"
    }
   }
  },
  {
   "cell_type": "markdown",
   "source": [
    "Берем данные по skoda"
   ],
   "metadata": {
    "collapsed": false,
    "pycharm": {
     "name": "#%% md\n"
    }
   }
  },
  {
   "cell_type": "code",
   "execution_count": 3,
   "outputs": [
    {
     "data": {
      "text/plain": "   year  price  mileage  tax   mpg  engineSize\n0  2017  10550    25250  150  54.3         1.4\n1  2018   8200     1264  145  67.3         1.0\n2  2019  15650     6825  145  67.3         2.0\n3  2015  14000    28431  165  51.4         2.0\n4  2019  18350    10912  150  40.9         1.5",
      "text/html": "<div>\n<style scoped>\n    .dataframe tbody tr th:only-of-type {\n        vertical-align: middle;\n    }\n\n    .dataframe tbody tr th {\n        vertical-align: top;\n    }\n\n    .dataframe thead th {\n        text-align: right;\n    }\n</style>\n<table border=\"1\" class=\"dataframe\">\n  <thead>\n    <tr style=\"text-align: right;\">\n      <th></th>\n      <th>year</th>\n      <th>price</th>\n      <th>mileage</th>\n      <th>tax</th>\n      <th>mpg</th>\n      <th>engineSize</th>\n    </tr>\n  </thead>\n  <tbody>\n    <tr>\n      <th>0</th>\n      <td>2017</td>\n      <td>10550</td>\n      <td>25250</td>\n      <td>150</td>\n      <td>54.3</td>\n      <td>1.4</td>\n    </tr>\n    <tr>\n      <th>1</th>\n      <td>2018</td>\n      <td>8200</td>\n      <td>1264</td>\n      <td>145</td>\n      <td>67.3</td>\n      <td>1.0</td>\n    </tr>\n    <tr>\n      <th>2</th>\n      <td>2019</td>\n      <td>15650</td>\n      <td>6825</td>\n      <td>145</td>\n      <td>67.3</td>\n      <td>2.0</td>\n    </tr>\n    <tr>\n      <th>3</th>\n      <td>2015</td>\n      <td>14000</td>\n      <td>28431</td>\n      <td>165</td>\n      <td>51.4</td>\n      <td>2.0</td>\n    </tr>\n    <tr>\n      <th>4</th>\n      <td>2019</td>\n      <td>18350</td>\n      <td>10912</td>\n      <td>150</td>\n      <td>40.9</td>\n      <td>1.5</td>\n    </tr>\n  </tbody>\n</table>\n</div>"
     },
     "execution_count": 3,
     "metadata": {},
     "output_type": "execute_result"
    }
   ],
   "source": [
    "df = pd.read_csv('../data/skoda.csv')\n",
    "numeric_columns = df.select_dtypes(include='number').columns.tolist()\n",
    "df[numeric_columns].head(5)"
   ],
   "metadata": {
    "collapsed": false,
    "pycharm": {
     "name": "#%%\n"
    }
   }
  },
  {
   "cell_type": "code",
   "execution_count": 4,
   "outputs": [],
   "source": [
    "features = numeric_columns.copy()\n",
    "features.remove('price')\n",
    "\n",
    "target = ['price']"
   ],
   "metadata": {
    "collapsed": false,
    "pycharm": {
     "name": "#%%\n"
    }
   }
  },
  {
   "cell_type": "code",
   "execution_count": 5,
   "outputs": [],
   "source": [
    "x = df[features]\n",
    "y = df[target]\n",
    "\n",
    "x_train, x_test, y_train, y_test = train_test_split(x, y, test_size=0.2, random_state=42)"
   ],
   "metadata": {
    "collapsed": false,
    "pycharm": {
     "name": "#%%\n"
    }
   }
  },
  {
   "cell_type": "code",
   "execution_count": 6,
   "outputs": [],
   "source": [
    "forest_model = RandomForestRegressor(n_jobs=-1)\n",
    "\n",
    "forest_model.fit(x_train, y_train.values.ravel())\n",
    "y_pred = forest_model.predict(x_test)\n",
    "score = r2_score(y_pred, y_test)"
   ],
   "metadata": {
    "collapsed": false,
    "pycharm": {
     "name": "#%%\n"
    }
   }
  },
  {
   "cell_type": "code",
   "execution_count": 7,
   "outputs": [
    {
     "name": "stdout",
     "output_type": "stream",
     "text": [
      "r2_score: 0.9207526210838993\n",
      "feature_importances:\n",
      "\t('tax', 0.026485338832962918)\n",
      "\t('mileage', 0.11836862971518601)\n",
      "\t('engineSize', 0.15896484162467592)\n",
      "\t('year', 0.19420303064564057)\n",
      "\t('mpg', 0.5019781591815345)\n"
     ]
    }
   ],
   "source": [
    "print(f'r2_score: {score}')\n",
    "print('feature_importances:')\n",
    "for i in sorted(zip(features, forest_model.feature_importances_), key=lambda x: x[1]):\n",
    "    print(f'\\t{i}')"
   ],
   "metadata": {
    "collapsed": false,
    "pycharm": {
     "name": "#%%\n"
    }
   }
  },
  {
   "cell_type": "markdown",
   "source": [
    "# Medium"
   ],
   "metadata": {
    "collapsed": false,
    "pycharm": {
     "name": "#%% md\n"
    }
   }
  },
  {
   "cell_type": "code",
   "execution_count": 8,
   "outputs": [],
   "source": [
    "from sklearn.preprocessing import LabelEncoder"
   ],
   "metadata": {
    "collapsed": false,
    "pycharm": {
     "name": "#%%\n"
    }
   }
  },
  {
   "cell_type": "code",
   "execution_count": 9,
   "outputs": [],
   "source": [
    "dfs = []\n",
    "\n",
    "for filename in filenames:\n",
    "    df = pd.read_csv(f'../data/{filename}')\n",
    "    df['manufacturer'] = filename\n",
    "    dfs.append(df)\n",
    "\n",
    "df = pd.concat(dfs, ignore_index=True)"
   ],
   "metadata": {
    "collapsed": false,
    "pycharm": {
     "name": "#%%\n"
    }
   }
  },
  {
   "cell_type": "markdown",
   "source": [
    "Посмотрим на уникальные значения столбцов"
   ],
   "metadata": {
    "collapsed": false,
    "pycharm": {
     "name": "#%% md\n"
    }
   }
  },
  {
   "cell_type": "code",
   "execution_count": 10,
   "outputs": [
    {
     "name": "stdout",
     "output_type": "stream",
     "text": [
      "model [' A1' ' A6' ' A4' ' A3' ' Q3' ' Q5' ' A5' ' S4' ' Q2' ' A7']\n",
      "year [2017 2016 2019 2015 2014 2018 2013 2020 2004 2009]\n",
      "price [12500 16500 11000 16800 17300 13900 13250 11750 10200 12000]\n",
      "transmission ['Manual' 'Automatic' 'Semi-Auto' 'Other']\n",
      "mileage [15735 36203 29946 25952  1998 32260 76788 75185 46112 22451]\n",
      "fuelType ['Petrol' 'Diesel' 'Hybrid' 'Other' 'Electric']\n",
      "tax [150.  20.  30. 145. 125. 200.   0. 205. 160. 235.]\n",
      "mpg [55.4 64.2 67.3 49.6 58.9 61.4 70.6 60.1 57.6 52.3]\n",
      "engineSize [1.4 2.  1.  3.  1.6 1.8 1.5 4.  2.5 1.2]\n",
      "manufacturer ['audi.csv' 'bmw.csv' 'ford.csv' 'hyundi.csv' 'merc.csv' 'skoda.csv'\n",
      " 'toyota.csv' 'vw.csv']\n",
      "tax(£) [ nan 145. 235.  30.  20. 160. 125. 150. 135. 200.]\n"
     ]
    }
   ],
   "source": [
    "columns = df.columns.values\n",
    "for col in columns:\n",
    "    print(col, df[col].unique()[:10])"
   ],
   "metadata": {
    "collapsed": false,
    "pycharm": {
     "name": "#%%\n"
    }
   }
  },
  {
   "cell_type": "code",
   "execution_count": 11,
   "outputs": [],
   "source": [
    "transmission_mapping = {\n",
    "    'Manual': 0,\n",
    "    'Semi-Auto': 1,\n",
    "    'Other': 2,\n",
    "    'Automatic': 3,\n",
    "}\n",
    "fuel_mapping = {\n",
    "    'Petrol': 1,\n",
    "    'Diesel': 2,\n",
    "    'Hybrid': 3,\n",
    "    'Other': 4,\n",
    "    'Electric': 5,\n",
    "}"
   ],
   "metadata": {
    "collapsed": false,
    "pycharm": {
     "name": "#%%\n"
    }
   }
  },
  {
   "cell_type": "markdown",
   "source": [
    "Преобразуем признаки"
   ],
   "metadata": {
    "collapsed": false,
    "pycharm": {
     "name": "#%% md\n"
    }
   }
  },
  {
   "cell_type": "code",
   "execution_count": 12,
   "outputs": [],
   "source": [
    "df['transmission'] = df['transmission'].map(transmission_mapping)\n",
    "\n",
    "df['fuelType'] = df['fuelType'].map(fuel_mapping)\n",
    "\n",
    "label_encoder = LabelEncoder()\n",
    "df['model'] = label_encoder.fit_transform(df['model'])"
   ],
   "metadata": {
    "collapsed": false,
    "pycharm": {
     "name": "#%%\n"
    }
   }
  },
  {
   "cell_type": "markdown",
   "source": [
    "Посмотрим есть ли пропуски"
   ],
   "metadata": {
    "collapsed": false,
    "pycharm": {
     "name": "#%% md\n"
    }
   }
  },
  {
   "cell_type": "code",
   "execution_count": 13,
   "outputs": [
    {
     "name": "stdout",
     "output_type": "stream",
     "text": [
      "model: Na count: 0\n",
      "year: Na count: 0\n",
      "price: Na count: 0\n",
      "transmission: Na count: 0\n",
      "mileage: Na count: 0\n",
      "fuelType: Na count: 0\n",
      "tax: Na count: 4860\n",
      "mpg: Na count: 0\n",
      "engineSize: Na count: 0\n",
      "manufacturer: Na count: 0\n",
      "tax(£): Na count: 80695\n"
     ]
    }
   ],
   "source": [
    "for col in df.columns.values:\n",
    "    print(f'{col}: Na count: {df[col].isna().sum()}')"
   ],
   "metadata": {
    "collapsed": false,
    "pycharm": {
     "name": "#%%\n"
    }
   }
  },
  {
   "cell_type": "markdown",
   "source": [
    "Выбросим столбцы с пропусками"
   ],
   "metadata": {
    "collapsed": false,
    "pycharm": {
     "name": "#%% md\n"
    }
   }
  },
  {
   "cell_type": "code",
   "execution_count": 14,
   "outputs": [],
   "source": [
    "df = df.drop(['tax(£)'], axis=1)\n",
    "df = df.drop(['tax'], axis=1)"
   ],
   "metadata": {
    "collapsed": false,
    "pycharm": {
     "name": "#%%\n"
    }
   }
  },
  {
   "cell_type": "code",
   "execution_count": 15,
   "outputs": [],
   "source": [
    "df_copy = df.copy()  # использую потом"
   ],
   "metadata": {
    "collapsed": false,
    "pycharm": {
     "name": "#%%\n"
    }
   }
  },
  {
   "cell_type": "code",
   "execution_count": 16,
   "outputs": [
    {
     "data": {
      "text/plain": "   model  year  price  transmission  mileage  fuelType   mpg  engineSize  \\\n0      9  2017  12500             0    15735         1  55.4         1.4   \n1     14  2016  16500             3    36203         2  64.2         2.0   \n2      9  2016  11000             0    29946         1  55.4         1.4   \n3     12  2017  16800             3    25952         2  67.3         2.0   \n4     11  2019  17300             0     1998         1  49.6         1.0   \n\n  manufacturer  \n0     audi.csv  \n1     audi.csv  \n2     audi.csv  \n3     audi.csv  \n4     audi.csv  ",
      "text/html": "<div>\n<style scoped>\n    .dataframe tbody tr th:only-of-type {\n        vertical-align: middle;\n    }\n\n    .dataframe tbody tr th {\n        vertical-align: top;\n    }\n\n    .dataframe thead th {\n        text-align: right;\n    }\n</style>\n<table border=\"1\" class=\"dataframe\">\n  <thead>\n    <tr style=\"text-align: right;\">\n      <th></th>\n      <th>model</th>\n      <th>year</th>\n      <th>price</th>\n      <th>transmission</th>\n      <th>mileage</th>\n      <th>fuelType</th>\n      <th>mpg</th>\n      <th>engineSize</th>\n      <th>manufacturer</th>\n    </tr>\n  </thead>\n  <tbody>\n    <tr>\n      <th>0</th>\n      <td>9</td>\n      <td>2017</td>\n      <td>12500</td>\n      <td>0</td>\n      <td>15735</td>\n      <td>1</td>\n      <td>55.4</td>\n      <td>1.4</td>\n      <td>audi.csv</td>\n    </tr>\n    <tr>\n      <th>1</th>\n      <td>14</td>\n      <td>2016</td>\n      <td>16500</td>\n      <td>3</td>\n      <td>36203</td>\n      <td>2</td>\n      <td>64.2</td>\n      <td>2.0</td>\n      <td>audi.csv</td>\n    </tr>\n    <tr>\n      <th>2</th>\n      <td>9</td>\n      <td>2016</td>\n      <td>11000</td>\n      <td>0</td>\n      <td>29946</td>\n      <td>1</td>\n      <td>55.4</td>\n      <td>1.4</td>\n      <td>audi.csv</td>\n    </tr>\n    <tr>\n      <th>3</th>\n      <td>12</td>\n      <td>2017</td>\n      <td>16800</td>\n      <td>3</td>\n      <td>25952</td>\n      <td>2</td>\n      <td>67.3</td>\n      <td>2.0</td>\n      <td>audi.csv</td>\n    </tr>\n    <tr>\n      <th>4</th>\n      <td>11</td>\n      <td>2019</td>\n      <td>17300</td>\n      <td>0</td>\n      <td>1998</td>\n      <td>1</td>\n      <td>49.6</td>\n      <td>1.0</td>\n      <td>audi.csv</td>\n    </tr>\n  </tbody>\n</table>\n</div>"
     },
     "execution_count": 16,
     "metadata": {},
     "output_type": "execute_result"
    }
   ],
   "source": [
    "df.head()"
   ],
   "metadata": {
    "collapsed": false,
    "pycharm": {
     "name": "#%%\n"
    }
   }
  },
  {
   "cell_type": "code",
   "execution_count": 17,
   "outputs": [],
   "source": [
    "features = list(df.columns.values)\n",
    "features.remove('price')\n",
    "features.remove('manufacturer')\n",
    "\n",
    "target = ['price']"
   ],
   "metadata": {
    "collapsed": false,
    "pycharm": {
     "name": "#%%\n"
    }
   }
  },
  {
   "cell_type": "code",
   "execution_count": 18,
   "outputs": [],
   "source": [
    "x = df[features]\n",
    "y = df[target]\n",
    "\n",
    "x_train, x_test, y_train, y_test = train_test_split(x, y, test_size=0.2, random_state=42)"
   ],
   "metadata": {
    "collapsed": false,
    "pycharm": {
     "name": "#%%\n"
    }
   }
  },
  {
   "cell_type": "code",
   "execution_count": 19,
   "outputs": [],
   "source": [
    "forest_model = RandomForestRegressor(n_jobs=-1)\n",
    "\n",
    "forest_model.fit(x_train, y_train.values.ravel())\n",
    "y_pred = forest_model.predict(x_test)\n",
    "score = r2_score(y_pred, y_test)"
   ],
   "metadata": {
    "collapsed": false,
    "pycharm": {
     "name": "#%%\n"
    }
   }
  },
  {
   "cell_type": "code",
   "execution_count": 20,
   "outputs": [
    {
     "name": "stdout",
     "output_type": "stream",
     "text": [
      "r2_score: 0.9546956711395893\n",
      "feature_importances:\n",
      "('fuelType', 0.004636401382401251)\n",
      "('mileage', 0.05680040225470808)\n",
      "('model', 0.07875061827515999)\n",
      "('mpg', 0.11967835131328601)\n",
      "('transmission', 0.1759502146182593)\n",
      "('year', 0.2665789741478749)\n",
      "('engineSize', 0.29760503800831045)\n"
     ]
    }
   ],
   "source": [
    "print(f'r2_score: {score}')\n",
    "print('feature_importances:')\n",
    "for i in sorted(zip(features, forest_model.feature_importances_), key=lambda x: x[1]):\n",
    "    print(i)"
   ],
   "metadata": {
    "collapsed": false,
    "pycharm": {
     "name": "#%%\n"
    }
   }
  },
  {
   "cell_type": "markdown",
   "source": [
    "Попробуем перебрать параметры"
   ],
   "metadata": {
    "collapsed": false,
    "pycharm": {
     "name": "#%% md\n"
    }
   }
  },
  {
   "cell_type": "code",
   "execution_count": 21,
   "outputs": [
    {
     "name": "stdout",
     "output_type": "stream",
     "text": [
      "Fitting 5 folds for each of 50 candidates, totalling 250 fits\n",
      "Лучшие параметры: {'n_estimators': 100, 'min_samples_split': 3, 'min_samples_leaf': 2, 'max_features': 3}\n"
     ]
    }
   ],
   "source": [
    "from sklearn.ensemble import RandomForestRegressor\n",
    "from sklearn.model_selection import RandomizedSearchCV\n",
    "\n",
    "param_grid = {\n",
    "    'n_estimators': [5, 10, 20, 100],\n",
    "    'min_samples_split': [2, 3, 4],\n",
    "    'min_samples_leaf': [1, 2, 3],\n",
    "    'max_features': [1, 2, 3]\n",
    "}\n",
    "\n",
    "rf_regressor = RandomForestRegressor(n_jobs=-1)\n",
    "\n",
    "grid_search = RandomizedSearchCV(estimator=rf_regressor, param_distributions=param_grid, cv=5, verbose=1, n_iter=50)\n",
    "grid_search.fit(x, y.values.ravel())\n",
    "\n",
    "print(\"Лучшие параметры:\", grid_search.best_params_)"
   ],
   "metadata": {
    "collapsed": false,
    "pycharm": {
     "name": "#%%\n"
    }
   }
  },
  {
   "cell_type": "code",
   "execution_count": 22,
   "outputs": [
    {
     "name": "stderr",
     "output_type": "stream",
     "text": [
      "/Users/askar/anaconda3/envs/classical-ml/lib/python3.11/site-packages/sklearn/base.py:1351: DataConversionWarning: A column-vector y was passed when a 1d array was expected. Please change the shape of y to (n_samples,), for example using ravel().\n",
      "  return fit_method(estimator, *args, **kwargs)\n"
     ]
    }
   ],
   "source": [
    "best_forest_model = RandomForestRegressor(n_jobs=-1, **grid_search.best_params_)\n",
    "\n",
    "best_forest_model.fit(x_train, y_train)\n",
    "y_pred = best_forest_model.predict(x_test)\n",
    "score = r2_score(y_pred, y_test)\n"
   ],
   "metadata": {
    "collapsed": false,
    "pycharm": {
     "name": "#%%\n"
    }
   }
  },
  {
   "cell_type": "markdown",
   "source": [
    "Получилось примерно так же"
   ],
   "metadata": {
    "collapsed": false,
    "pycharm": {
     "name": "#%% md\n"
    }
   }
  },
  {
   "cell_type": "code",
   "execution_count": 23,
   "outputs": [
    {
     "name": "stdout",
     "output_type": "stream",
     "text": [
      "r2_score: 0.9527091429802192\n",
      "feature_importances:\n",
      "\t('fuelType', 0.018898964389879622)\n",
      "\t('model', 0.07369831189705954)\n",
      "\t('mileage', 0.0931858059654367)\n",
      "\t('transmission', 0.15741924536575488)\n",
      "\t('mpg', 0.18238845066046838)\n",
      "\t('year', 0.22290696628569068)\n",
      "\t('engineSize', 0.2515022554357103)\n"
     ]
    }
   ],
   "source": [
    "print(f'r2_score: {score}')\n",
    "print('feature_importances:')\n",
    "for i in sorted(zip(features, best_forest_model.feature_importances_), key=lambda x: x[1]):\n",
    "    print(f'\\t{i}')"
   ],
   "metadata": {
    "collapsed": false,
    "pycharm": {
     "name": "#%%\n"
    }
   }
  },
  {
   "cell_type": "markdown",
   "source": [
    "Теперь попробуем построить дерево для каждой модели"
   ],
   "metadata": {
    "collapsed": false,
    "pycharm": {
     "name": "#%% md\n"
    }
   }
  },
  {
   "cell_type": "code",
   "execution_count": 24,
   "outputs": [
    {
     "data": {
      "text/plain": "173"
     },
     "execution_count": 24,
     "metadata": {},
     "output_type": "execute_result"
    }
   ],
   "source": [
    "models = df['model'].unique()\n",
    "len(models)"
   ],
   "metadata": {
    "collapsed": false,
    "pycharm": {
     "name": "#%%\n"
    }
   }
  },
  {
   "cell_type": "code",
   "execution_count": 25,
   "outputs": [
    {
     "data": {
      "text/plain": "[[1, 10],\n [1, 17],\n [1, 19],\n [1, 49],\n [1, 114],\n [1, 115],\n [1, 146],\n [1, 169],\n [1, 170],\n [1, 171],\n [1, 172],\n [2, 107],\n [2, 133],\n [2, 139],\n [3, 33],\n [3, 122],\n [3, 151],\n [3, 153],\n [4, 38],\n [4, 53],\n [4, 123],\n [4, 149],\n [6, 36],\n [6, 64],\n [7, 34],\n [7, 48],\n [7, 165],\n [8, 37],\n [8, 75],\n [8, 93],\n [8, 127],\n [11, 41],\n [12, 121],\n [12, 135],\n [15, 40],\n [15, 55],\n [15, 97],\n [16, 54],\n [16, 126],\n [17, 117]]"
     },
     "execution_count": 25,
     "metadata": {},
     "output_type": "execute_result"
    }
   ],
   "source": [
    "models_rate = [[len(df[df['model'] == model]), model] for model in models]\n",
    "models_rate.sort()\n",
    "\n",
    "models_rate[:40]"
   ],
   "metadata": {
    "collapsed": false,
    "pycharm": {
     "name": "#%%\n"
    }
   }
  },
  {
   "cell_type": "markdown",
   "source": [
    "Выкинем редкие модели, которых меньше 15 штук в выборке."
   ],
   "metadata": {
    "collapsed": false,
    "pycharm": {
     "name": "#%% md\n"
    }
   }
  },
  {
   "cell_type": "code",
   "execution_count": 26,
   "outputs": [
    {
     "data": {
      "text/plain": "[10,\n 17,\n 19,\n 49,\n 114,\n 115,\n 146,\n 169,\n 170,\n 171,\n 172,\n 107,\n 133,\n 139,\n 33,\n 122,\n 151,\n 153,\n 38,\n 53,\n 123,\n 149,\n 36,\n 64,\n 34,\n 48,\n 165,\n 37,\n 75,\n 93,\n 127,\n 41,\n 121,\n 135]"
     },
     "execution_count": 26,
     "metadata": {},
     "output_type": "execute_result"
    }
   ],
   "source": [
    "rare_models = [model for rate, model in models_rate if rate < 15]\n",
    "rare_models"
   ],
   "metadata": {
    "collapsed": false,
    "pycharm": {
     "name": "#%%\n"
    }
   }
  },
  {
   "cell_type": "code",
   "execution_count": 27,
   "outputs": [
    {
     "data": {
      "text/plain": "34"
     },
     "execution_count": 27,
     "metadata": {},
     "output_type": "execute_result"
    }
   ],
   "source": [
    "len(rare_models)"
   ],
   "metadata": {
    "collapsed": false,
    "pycharm": {
     "name": "#%%\n"
    }
   }
  },
  {
   "cell_type": "code",
   "execution_count": 28,
   "outputs": [],
   "source": [
    "df = df[~df['model'].isin(rare_models)]"
   ],
   "metadata": {
    "collapsed": false,
    "pycharm": {
     "name": "#%%\n"
    }
   }
  },
  {
   "cell_type": "code",
   "execution_count": 29,
   "outputs": [],
   "source": [
    "models = [model for model in models if model not in rare_models]"
   ],
   "metadata": {
    "collapsed": false,
    "pycharm": {
     "name": "#%%\n"
    }
   }
  },
  {
   "cell_type": "code",
   "execution_count": 30,
   "outputs": [
    {
     "name": "stdout",
     "output_type": "stream",
     "text": [
      "features: ['model', 'year', 'transmission', 'mileage', 'fuelType', 'mpg', 'engineSize']\n"
     ]
    }
   ],
   "source": [
    "features = list(df.columns.values)\n",
    "features.remove('price')\n",
    "features.remove('manufacturer')\n",
    "\n",
    "target = ['price']\n",
    "print('features:', features)"
   ],
   "metadata": {
    "collapsed": false,
    "pycharm": {
     "name": "#%%\n"
    }
   }
  },
  {
   "cell_type": "code",
   "execution_count": 31,
   "outputs": [
    {
     "name": "stderr",
     "output_type": "stream",
     "text": [
      "100%|██████████████████████████████████████████| 139/139 [00:09<00:00, 14.25it/s]\n"
     ]
    }
   ],
   "source": [
    "from tqdm import tqdm\n",
    "\n",
    "random_forests = dict()\n",
    "\n",
    "y_pred_total = np.empty(0)\n",
    "y_test_total = pd.DataFrame()\n",
    "\n",
    "for car_model in tqdm(models):\n",
    "    random_forests[car_model] = RandomForestRegressor(n_jobs=-1, **grid_search.best_params_)\n",
    "    random_forest = random_forests[car_model]\n",
    "\n",
    "    df_car_model = df[df['model'] == car_model]\n",
    "\n",
    "    x = df_car_model[features]\n",
    "    y = df_car_model[target]\n",
    "    x_train, x_test, y_train, y_test = train_test_split(x, y, test_size=0.2, random_state=42)\n",
    "\n",
    "    random_forest.fit(x_train, y_train.values.ravel())\n",
    "    y_pred = random_forest.predict(x_test)\n",
    "\n",
    "    y_pred_total = np.concatenate([y_pred_total, y_pred])\n",
    "    y_test_total = pd.concat([y_test_total, y_test], axis=0)"
   ],
   "metadata": {
    "collapsed": false,
    "pycharm": {
     "name": "#%%\n"
    }
   }
  },
  {
   "cell_type": "markdown",
   "source": [
    "Оценим score общей модели"
   ],
   "metadata": {
    "collapsed": false,
    "pycharm": {
     "name": "#%% md\n"
    }
   }
  },
  {
   "cell_type": "code",
   "execution_count": 32,
   "outputs": [
    {
     "data": {
      "text/plain": "0.9649776492163962"
     },
     "execution_count": 32,
     "metadata": {},
     "output_type": "execute_result"
    }
   ],
   "source": [
    "score = r2_score(y_pred_total, y_test_total)\n",
    "score"
   ],
   "metadata": {
    "collapsed": false,
    "pycharm": {
     "name": "#%%\n"
    }
   }
  },
  {
   "cell_type": "markdown",
   "source": [
    "Получилось чуть лучше"
   ],
   "metadata": {
    "collapsed": false,
    "pycharm": {
     "name": "#%% md\n"
    }
   }
  },
  {
   "cell_type": "markdown",
   "source": [
    "### Не по теме, а просто ради интереса"
   ],
   "metadata": {
    "collapsed": false,
    "pycharm": {
     "name": "#%% md\n"
    }
   }
  },
  {
   "cell_type": "markdown",
   "source": [
    "Важность фич для разных производителей (среднее для 10 обученных лесов)"
   ],
   "metadata": {
    "collapsed": false,
    "pycharm": {
     "name": "#%% md\n"
    }
   }
  },
  {
   "cell_type": "code",
   "execution_count": 33,
   "outputs": [
    {
     "name": "stderr",
     "output_type": "stream",
     "text": [
      "100%|████████████████████████████████████████████| 10/10 [00:16<00:00,  1.65s/it]\n"
     ]
    }
   ],
   "source": [
    "features = ['year', 'transmission', 'mileage', 'fuelType', 'mpg', 'engineSize']\n",
    "target = ['price']\n",
    "\n",
    "dataframes = []\n",
    "for _ in tqdm(range(10)):\n",
    "    df_features = pd.DataFrame(columns=features)\n",
    "    for filename in filenames:\n",
    "\n",
    "        df = df_copy[df_copy['manufacturer'] == filename]\n",
    "        x = df[features]\n",
    "        y = df[target]\n",
    "\n",
    "        x_train, x_test, y_train, y_test = train_test_split(x, y, test_size=0.2)\n",
    "        forest_model = RandomForestRegressor(n_jobs=-1)\n",
    "\n",
    "        forest_model.fit(x_train, y_train.values.ravel())\n",
    "\n",
    "        new_row = []\n",
    "        for i in forest_model.feature_importances_:\n",
    "            new_row.append(i)\n",
    "        df_features.loc[len(df_features)] = new_row\n",
    "    df_features.index = filenames\n",
    "    dataframes.append(df_features)\n"
   ],
   "metadata": {
    "collapsed": false,
    "pycharm": {
     "name": "#%%\n"
    }
   }
  },
  {
   "cell_type": "code",
   "execution_count": 34,
   "outputs": [],
   "source": [
    "df_average = sum(dataframes) / len(dataframes)"
   ],
   "metadata": {
    "collapsed": false,
    "pycharm": {
     "name": "#%%\n"
    }
   }
  },
  {
   "cell_type": "code",
   "execution_count": 35,
   "outputs": [
    {
     "data": {
      "text/plain": "                year  transmission   mileage  fuelType       mpg  engineSize\naudi.csv    0.220269      0.030846  0.068238  0.014807  0.472944    0.192895\nbmw.csv     0.453460      0.020957  0.088455  0.021685  0.147878    0.267564\nford.csv    0.492121      0.008912  0.094700  0.002133  0.111530    0.290604\nhyundi.csv  0.347031      0.013826  0.101511  0.025426  0.173972    0.338234\nmerc.csv    0.132377      0.016625  0.291013  0.012021  0.229068    0.318896\nskoda.csv   0.199493      0.026600  0.102133  0.018007  0.506935    0.146833\ntoyota.csv  0.269899      0.009682  0.049427  0.005095  0.069953    0.595944\nvw.csv      0.175688      0.010110  0.070874  0.030655  0.599325    0.113348",
      "text/html": "<div>\n<style scoped>\n    .dataframe tbody tr th:only-of-type {\n        vertical-align: middle;\n    }\n\n    .dataframe tbody tr th {\n        vertical-align: top;\n    }\n\n    .dataframe thead th {\n        text-align: right;\n    }\n</style>\n<table border=\"1\" class=\"dataframe\">\n  <thead>\n    <tr style=\"text-align: right;\">\n      <th></th>\n      <th>year</th>\n      <th>transmission</th>\n      <th>mileage</th>\n      <th>fuelType</th>\n      <th>mpg</th>\n      <th>engineSize</th>\n    </tr>\n  </thead>\n  <tbody>\n    <tr>\n      <th>audi.csv</th>\n      <td>0.220269</td>\n      <td>0.030846</td>\n      <td>0.068238</td>\n      <td>0.014807</td>\n      <td>0.472944</td>\n      <td>0.192895</td>\n    </tr>\n    <tr>\n      <th>bmw.csv</th>\n      <td>0.453460</td>\n      <td>0.020957</td>\n      <td>0.088455</td>\n      <td>0.021685</td>\n      <td>0.147878</td>\n      <td>0.267564</td>\n    </tr>\n    <tr>\n      <th>ford.csv</th>\n      <td>0.492121</td>\n      <td>0.008912</td>\n      <td>0.094700</td>\n      <td>0.002133</td>\n      <td>0.111530</td>\n      <td>0.290604</td>\n    </tr>\n    <tr>\n      <th>hyundi.csv</th>\n      <td>0.347031</td>\n      <td>0.013826</td>\n      <td>0.101511</td>\n      <td>0.025426</td>\n      <td>0.173972</td>\n      <td>0.338234</td>\n    </tr>\n    <tr>\n      <th>merc.csv</th>\n      <td>0.132377</td>\n      <td>0.016625</td>\n      <td>0.291013</td>\n      <td>0.012021</td>\n      <td>0.229068</td>\n      <td>0.318896</td>\n    </tr>\n    <tr>\n      <th>skoda.csv</th>\n      <td>0.199493</td>\n      <td>0.026600</td>\n      <td>0.102133</td>\n      <td>0.018007</td>\n      <td>0.506935</td>\n      <td>0.146833</td>\n    </tr>\n    <tr>\n      <th>toyota.csv</th>\n      <td>0.269899</td>\n      <td>0.009682</td>\n      <td>0.049427</td>\n      <td>0.005095</td>\n      <td>0.069953</td>\n      <td>0.595944</td>\n    </tr>\n    <tr>\n      <th>vw.csv</th>\n      <td>0.175688</td>\n      <td>0.010110</td>\n      <td>0.070874</td>\n      <td>0.030655</td>\n      <td>0.599325</td>\n      <td>0.113348</td>\n    </tr>\n  </tbody>\n</table>\n</div>"
     },
     "execution_count": 35,
     "metadata": {},
     "output_type": "execute_result"
    }
   ],
   "source": [
    "df_average"
   ],
   "metadata": {
    "collapsed": false,
    "pycharm": {
     "name": "#%%\n"
    }
   }
  },
  {
   "cell_type": "markdown",
   "source": [
    "- Year (Год производства): Этот параметр является самым важным для моделей Ford, BMW и Hyundai, но менее важным для Mercedes.\n",
    "- Mileage (Пробег): Для mercedes является одним из самых важных параметров, для других же марок этот параметр менее важен.\n",
    "- MPG (Расход): Для VW, Skoda, Audi этот параметр оказывается самым выжным. Для toyota этот параметр наименее важен\n",
    "- Engine Size (Объем двигателя): Это самый важный параметр для toyota, наименее важный для VW, Skoda, Audi"
   ],
   "metadata": {
    "collapsed": false,
    "pycharm": {
     "name": "#%% md\n"
    }
   }
  }
 ],
 "metadata": {
  "kernelspec": {
   "display_name": "Python 3",
   "language": "python",
   "name": "python3"
  },
  "language_info": {
   "codemirror_mode": {
    "name": "ipython",
    "version": 2
   },
   "file_extension": ".py",
   "mimetype": "text/x-python",
   "name": "python",
   "nbconvert_exporter": "python",
   "pygments_lexer": "ipython2",
   "version": "2.7.6"
  }
 },
 "nbformat": 4,
 "nbformat_minor": 0
}